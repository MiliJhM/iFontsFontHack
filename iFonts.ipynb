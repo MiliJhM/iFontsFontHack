{
 "cells": [
  {
   "cell_type": "code",
   "execution_count": 1,
   "metadata": {},
   "outputs": [],
   "source": [
    "import os\n",
    "from webbrowser import get\n",
    "import fontTools.ttLib as tt\n",
    "from typing import List\n",
    "import string\n",
    "import shutil"
   ]
  },
  {
   "cell_type": "code",
   "execution_count": 2,
   "metadata": {},
   "outputs": [
    {
     "ename": "FileNotFoundError",
     "evalue": "[WinError 2] 系统找不到指定的文件。: '%TEMP%'",
     "output_type": "error",
     "traceback": [
      "\u001b[1;31m---------------------------------------------------------------------------\u001b[0m",
      "\u001b[1;31mFileNotFoundError\u001b[0m                         Traceback (most recent call last)",
      "\u001b[1;32md:\\JupyterNotebookWorkp\\JupyterWorkp\\iFonts.ipynb Cell 2\u001b[0m in \u001b[0;36m<cell line: 1>\u001b[1;34m()\u001b[0m\n\u001b[1;32m----> <a href='vscode-notebook-cell:/d%3A/JupyterNotebookWorkp/JupyterWorkp/iFonts.ipynb#W1sZmlsZQ%3D%3D?line=0'>1</a>\u001b[0m os\u001b[39m.\u001b[39;49mchdir(\u001b[39mr\u001b[39;49m\u001b[39m'\u001b[39;49m\u001b[39m%\u001b[39;49m\u001b[39mTEMP\u001b[39;49m\u001b[39m%\u001b[39;49m\u001b[39m'\u001b[39;49m)\n\u001b[0;32m      <a href='vscode-notebook-cell:/d%3A/JupyterNotebookWorkp/JupyterWorkp/iFonts.ipynb#W1sZmlsZQ%3D%3D?line=2'>3</a>\u001b[0m \u001b[39mdef\u001b[39;00m \u001b[39mget_dirlists\u001b[39m():\n\u001b[0;32m      <a href='vscode-notebook-cell:/d%3A/JupyterNotebookWorkp/JupyterWorkp/iFonts.ipynb#W1sZmlsZQ%3D%3D?line=3'>4</a>\u001b[0m     dire_lists \u001b[39m=\u001b[39m os\u001b[39m.\u001b[39mlistdir()\n",
      "\u001b[1;31mFileNotFoundError\u001b[0m: [WinError 2] 系统找不到指定的文件。: '%TEMP%'"
     ]
    }
   ],
   "source": [
    "os.chdir(r'***\\Temp')\n",
    "\n",
    "def get_dirlists():\n",
    "    dire_lists = os.listdir()\n",
    "    dirlists = []\n",
    "    for direc in dire_lists:\n",
    "        if os.path.isdir(direc):\n",
    "            dirlists.append(direc)\n",
    "    return dirlists\n",
    "\n",
    "dirl = get_dirlists()\n",
    "len16_dirl = []\n",
    "for direc in dirl:\n",
    "    if len(direc) == 16:\n",
    "        len16_dirl.append(direc)\n",
    "\n",
    "def get_needed_dir(direc: List) -> List:\n",
    "    needed_dir = []\n",
    "    for dire in direc:\n",
    "        if len(os.listdir(dire)) == 1:\n",
    "            needed_dir.append(dire+ '\\\\' + os.listdir(dire)[0])\n",
    "    return needed_dir\n",
    "\n",
    "needed_dir = get_needed_dir(len16_dirl)\n",
    "truly_needed_file = get_needed_dir(needed_dir)"
   ]
  },
  {
   "cell_type": "code",
   "execution_count": null,
   "metadata": {},
   "outputs": [],
   "source": [
    "if os.path.exists('out')==False:\n",
    "    os.mkdir('out')\n",
    "for i,files in enumerate(truly_needed_file):\n",
    "    shutil.copy(files, f'out\\\\file{i}.otf')"
   ]
  },
  {
   "cell_type": "code",
   "execution_count": null,
   "metadata": {},
   "outputs": [],
   "source": [
    "os.chdir('out')\n"
   ]
  },
  {
   "cell_type": "code",
   "execution_count": null,
   "metadata": {},
   "outputs": [],
   "source": [
    "\n",
    "from tokenize import Name\n",
    "\n",
    "def is_Chinese(word):\n",
    "    for ch in word:\n",
    "        if '\\u4e00' <= ch <= '\\u9fff':\n",
    "            return True\n",
    "    return False\n",
    "\n",
    "unnamed_fonts_list = os.listdir()\n",
    "\n",
    "for ttf in unnamed_fonts_list:\n",
    "    font = tt.TTFont(ttf)\n",
    "    names = font['name'].names\n",
    "    for i in names:\n",
    "        if i.langID == 33 and len(str(i))>=1 and is_Chinese(str(i)[0:1]):\n",
    "            name = i\n",
    "            break\n",
    "        if i.langID == 1033 and len(str(i))>=1 and is_Chinese(str(i)[0:1]):\n",
    "            name = i\n",
    "            break\n",
    "        if i.langID == 2052 and len(str(i))>=1 and is_Chinese(str(i)[0:1]):\n",
    "            name = i\n",
    "            break\n",
    "    try:\n",
    "        os.rename(ttf, f'{name}.otf')\n",
    "    except NameError:\n",
    "        for i in names:\n",
    "            if i.langID == 0 and len(str(i))>=1 and str(i)[0] not in string.digits + string.punctuation:\n",
    "                name = i\n",
    "                break\n",
    "        os.rename(ttf, f'{name}.otf')\n",
    "        "
   ]
  },
  {
   "cell_type": "code",
   "execution_count": null,
   "metadata": {},
   "outputs": [],
   "source": []
  }
 ],
 "metadata": {
  "kernelspec": {
   "display_name": "Python 3.8.13 ('seuratenv')",
   "language": "python",
   "name": "python3"
  },
  "language_info": {
   "codemirror_mode": {
    "name": "ipython",
    "version": 3
   },
   "file_extension": ".py",
   "mimetype": "text/x-python",
   "name": "python",
   "nbconvert_exporter": "python",
   "pygments_lexer": "ipython3",
   "version": "3.8.13"
  },
  "orig_nbformat": 4,
  "vscode": {
   "interpreter": {
    "hash": "681ad27741a7f9d91609611cbc18e472d0b342acae5199d3ad19a64c1df67e70"
   }
  }
 },
 "nbformat": 4,
 "nbformat_minor": 2
}
